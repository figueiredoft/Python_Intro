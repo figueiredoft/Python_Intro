{
  "nbformat": 4,
  "nbformat_minor": 0,
  "metadata": {
    "colab": {
      "provenance": [],
      "collapsed_sections": [],
      "authorship_tag": "ABX9TyPfLgcRn2LACfgS/ZDEtQ3G",
      "include_colab_link": true
    },
    "kernelspec": {
      "name": "python3",
      "display_name": "Python 3"
    },
    "language_info": {
      "name": "python"
    }
  },
  "cells": [
    {
      "cell_type": "markdown",
      "metadata": {
        "id": "view-in-github",
        "colab_type": "text"
      },
      "source": [
        "<a href=\"https://colab.research.google.com/github/figueiredoft/Python_Intro/blob/main/Aula1_Intro_Python.ipynb\" target=\"_parent\"><img src=\"https://colab.research.google.com/assets/colab-badge.svg\" alt=\"Open In Colab\"/></a>"
      ]
    },
    {
      "cell_type": "code",
      "execution_count": null,
      "metadata": {
        "id": "rBWy9tpK4FCB",
        "colab": {
          "base_uri": "https://localhost:8080/"
        },
        "outputId": "0bec3e13-8057-48c9-d2eb-4386d64dc608"
      },
      "outputs": [
        {
          "output_type": "stream",
          "name": "stdout",
          "text": [
            "Tati tem 2.5 anos.\n",
            "2.5\n",
            "30\n",
            "15.0\n",
            "15\n"
          ]
        }
      ],
      "source": [
        "#sobre variaveis em python: as variaveis sao utilizadas armazenar dados \n",
        "#podemos processar os dados armazenados nas variaveis atraves de varios operadores\n",
        "#operadores de atribuicao (=, +=, -=, *=, /=, %=)\n",
        "\n",
        "x = 10 #variavel inteira\n",
        "x += 20\n",
        "\n",
        "nome = \"Tati\" #variavel string (texto)\n",
        "teste = True #variavel booleana\n",
        "numero = 2.5 #variavel float (valores fracionados)\n",
        "\n",
        "#imprimindo valores\n",
        "print(nome + \" tem \" + str(numero) + \" anos.\")\n",
        "print(numero)\n",
        "print(x)\n",
        "\n",
        "x /= 2\n",
        "print(x)\n",
        "x = int(x)\n",
        "print(x)\n"
      ]
    },
    {
      "cell_type": "code",
      "source": [
        "#Exercicio 1: suponha que você queira receber as seguintes informacoes de\n",
        "#3 alunos da turma que desejam ser futuros atletas do time de futebol: nome, idade, altura e peso. \n",
        "#Faça um pequeno codigo em pythn retorne a IMC de cada aluno e a media da idade dos alunos.\n",
        "\n",
        "nome_aluno1 = input(\"Digite o nome do primeiro aluno:\") #exemplo de uso da funcao input\n",
        "idade_aluno1 = int(input(\"Digite a idade do primeiro aluno:\"))\n",
        "altura_aluno1 = float(input(\"Digite a altura do primeiro aluno:\"))\n",
        "peso_aluno1 = float(input(\"Digite o peso do primeiro aluno:\"))\n",
        "\n",
        "imc_aluno1 = peso_aluno1/altura_aluno1**2 #exemplo de uso de operadores aritmeticos (*, /, +, -, //, **, %)\n",
        "\n",
        "print(\"IMC do aluno: \" + nome_aluno1 + \" é: % .2f\" % imc_aluno1) \n",
        "#exemplo de uso da funcao print formatada\n",
        "\n",
        "nome_aluno2 = input(\"Digite o nome do segundo aluno:\")\n",
        "idade_aluno2 = int(input(\"Digite a idade do segundo aluno:\"))\n",
        "altura_aluno2 = float(input(\"Digite a altura do segundo aluno:\"))\n",
        "peso_aluno2 = float(input(\"Digite o peso do segundo aluno:\"))\n",
        "\n",
        "imc_aluno2 = peso_aluno2/(altura_aluno2)**2\n",
        "\n",
        "print(\"IMC do aluno: \" + nome_aluno2 + \" é: % .2f\" % imc_aluno2)\n",
        "\n",
        "\n",
        "# fazer o resto da questão! :)"
      ],
      "metadata": {
        "colab": {
          "base_uri": "https://localhost:8080/"
        },
        "id": "1yMgPZwy8PN9",
        "outputId": "588a84b3-607d-4414-c2a8-4950ce951613"
      },
      "execution_count": null,
      "outputs": [
        {
          "output_type": "stream",
          "name": "stdout",
          "text": [
            "Digite o nome do primeiro aluno:Tati\n",
            "Digite a idade do primeiro aluno:34\n",
            "Digite a altura do primeiro aluno:1.65\n",
            "Digite o peso do primeiro aluno:53\n",
            "IMC do aluno: Tati é:  19.47\n",
            "Digite o nome do segundo aluno:Joao\n",
            "Digite a idade do segundo aluno:33\n",
            "Digite a altura do segundo aluno:1.68\n",
            "Digite o peso do segundo aluno:67\n",
            "IMC do aluno: Joao é:  23.74\n"
          ]
        }
      ]
    },
    {
      "cell_type": "code",
      "source": [
        "#Exercicio 2: suponha que voce queira descobrir quem tem o menor IMC?\n",
        "\n",
        "#uso da ESTRUTURA CONDICIONAL: permite que um bloco de codigo seja executado apenas em determinadas condições \n",
        "\n",
        "if imc_aluno1 > imc_aluno2: #operadores logicos (and, or, not) - operadores de comparacao (>, <, ==, <=, >=, !=)\n",
        "  print(\"O aluno: \" + nome_aluno1 + \" tem o maior IMC\")\n",
        "else:\n",
        "  print(\"O aluno: \" + nome_aluno2 + \" tem o maior IMC\")\n",
        "\n",
        "#termine o codigo para comparar os 3 alunos! :) \n",
        "#Existe algum aluno que tem o IMC acima da média dos IMCs?\n",
        "\n"
      ],
      "metadata": {
        "colab": {
          "base_uri": "https://localhost:8080/"
        },
        "id": "Lr_cwgLRC2kP",
        "outputId": "55e4db88-c3a0-4530-8384-13aacdff9ca4"
      },
      "execution_count": null,
      "outputs": [
        {
          "output_type": "stream",
          "name": "stdout",
          "text": [
            "O aluno: Joao tem o maior IMC\n"
          ]
        }
      ]
    }
  ]
}