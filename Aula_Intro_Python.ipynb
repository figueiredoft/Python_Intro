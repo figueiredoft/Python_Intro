{
  "nbformat": 4,
  "nbformat_minor": 0,
  "metadata": {
    "colab": {
      "provenance": [],
      "collapsed_sections": [],
      "authorship_tag": "ABX9TyMmEes/gfQKZa8XNNp+//nO",
      "include_colab_link": true
    },
    "kernelspec": {
      "name": "python3",
      "display_name": "Python 3"
    },
    "language_info": {
      "name": "python"
    }
  },
  "cells": [
    {
      "cell_type": "markdown",
      "metadata": {
        "id": "view-in-github",
        "colab_type": "text"
      },
      "source": [
        "<a href=\"https://colab.research.google.com/github/figueiredoft/Python_Intro/blob/main/Aula_Intro_Python.ipynb\" target=\"_parent\"><img src=\"https://colab.research.google.com/assets/colab-badge.svg\" alt=\"Open In Colab\"/></a>"
      ]
    },
    {
      "cell_type": "code",
      "execution_count": null,
      "metadata": {
        "id": "rBWy9tpK4FCB",
        "colab": {
          "base_uri": "https://localhost:8080/"
        },
        "outputId": "65a70a0e-b0af-4fe9-8b0d-e6e3b4851374"
      },
      "outputs": [
        {
          "output_type": "stream",
          "name": "stdout",
          "text": [
            "Tati\n",
            "2.5\n"
          ]
        },
        {
          "output_type": "execute_result",
          "data": {
            "text/plain": [
              "10"
            ]
          },
          "metadata": {},
          "execution_count": 6
        }
      ],
      "source": [
        "#sobre variaveis em python: as variaveis sao utilizadas armazenar dados \n",
        "\n",
        "x = 10 #variavel inteira\n",
        "nome = \"Tati\" #variavel string (texto)\n",
        "teste = True #variavel booleana\n",
        "numero = 2.5 #variavel double\n",
        "\n",
        "#imprimindo valores\n",
        "print(nome)\n",
        "print(numero)\n",
        "x"
      ]
    }
  ]
}