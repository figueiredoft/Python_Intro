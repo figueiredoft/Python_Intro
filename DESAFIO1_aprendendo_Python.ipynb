{
  "nbformat": 4,
  "nbformat_minor": 0,
  "metadata": {
    "colab": {
      "provenance": [],
      "collapsed_sections": [],
      "authorship_tag": "ABX9TyOU9SfOtJHsXhE0qGN4+/Je",
      "include_colab_link": true
    },
    "kernelspec": {
      "name": "python3",
      "display_name": "Python 3"
    },
    "language_info": {
      "name": "python"
    }
  },
  "cells": [
    {
      "cell_type": "markdown",
      "metadata": {
        "id": "view-in-github",
        "colab_type": "text"
      },
      "source": [
        "<a href=\"https://colab.research.google.com/github/figueiredoft/Python_Intro/blob/main/DESAFIO1_aprendendo_Python.ipynb\" target=\"_parent\"><img src=\"https://colab.research.google.com/assets/colab-badge.svg\" alt=\"Open In Colab\"/></a>"
      ]
    },
    {
      "cell_type": "code",
      "execution_count": 2,
      "metadata": {
        "colab": {
          "base_uri": "https://localhost:8080/"
        },
        "id": "BnA8B7hxV87f",
        "outputId": "ec05ac02-de9f-4203-f814-16d1b39f919a"
      },
      "outputs": [
        {
          "output_type": "stream",
          "name": "stdout",
          "text": [
            "---- NOTAS DO LUIGI ------ \n",
            "Intro CC:aprovado\n",
            "Mat Bas.: reprovado\n",
            "Pre calculo: reprovado\n",
            "Fup:aprovado\n",
            "Etica:aprovado\n",
            "Ira do Luigi: 6.28 \n",
            "Maior nota do Luigi: 10.00 \n",
            "Menor nota do Luigi : 0.50 \n"
          ]
        }
      ],
      "source": [
        "# ETAPA 1: Criando as entradas para resolucao do problema\n",
        "\n",
        "#lista de disciplinas alunos\n",
        "alunos = [\"Luigi\", \"Mario\", \"Peach\", \"Mahatma\", \"Sufia\", \"Goku\", \"Zoro\", \"Sola\", \"Peralta\", \"Rogerim\"]\n",
        "\n",
        "#lista de disciplinas\n",
        "disc = [\"Intro CC\", \"Mat Bas.\", \"Pre calculo\", \"Fup\", \"Etica\"]\n",
        "\n",
        "#carga horaria das disciplinas\n",
        "carga_horaria = [64, 64, 32, 64, 64]\n",
        "\n",
        "#lista de notas do luigi em cada disciplina contida na lista de disciplinas (disc)\n",
        "notas_luigi =[10, 0.5, 3.5, 7.0, 9.0]\n",
        "\n",
        "\n",
        "#LOGICA PARA RESOLUCAO DOS QUESTIONAMENTOS P/ o aluno Luigi:\n",
        "soma_notas_luigi = 0.0\n",
        "soma_carga_hr = 0.0\n",
        "\n",
        "maior_nota_luigi = 0.0\n",
        "menor_nota_luigi = 10.0\n",
        "print(\"---- NOTAS DO LUIGI ------ \")\n",
        "for i in range(0, len(notas_luigi)):\n",
        "\n",
        "  if(notas_luigi[i] < 4):\n",
        "      print(disc[i] + \": reprovado\")\n",
        "  elif(notas_luigi[i] > 4 and notas_luigi[i] < 7):\n",
        "      print(disc[i] + \":final\")\n",
        "  else:\n",
        "      print(disc[i] + \":aprovado\")\n",
        "\n",
        "  if(notas_luigi[i] < menor_nota_luigi):\n",
        "      menor_nota_luigi = notas_luigi[i] \n",
        "\n",
        "  if(notas_luigi[i] > maior_nota_luigi):\n",
        "      maior_nota_luigi = notas_luigi[i] \n",
        "\n",
        "  soma_notas_luigi += notas_luigi[i] * carga_horaria[i]\n",
        "  soma_carga_hr += carga_horaria[i]\n",
        "\n",
        "IRA_luigi = soma_notas_luigi/soma_carga_hr\n",
        "\n",
        "print(\"Ira do Luigi: %.2f \" % IRA_luigi)\n",
        "print(\"Maior nota do Luigi: %.2f \" % maior_nota_luigi)\n",
        "print(\"Menor nota do Luigi : %.2f \" % menor_nota_luigi)\n",
        "#print(f\"Ira do Luigi: {IRA_luigi}:.2f \")\n",
        "\n",
        "\n",
        "#lista de notas dos demais em cada disciplina contida na lista de disciplinas (disc)\n",
        "\n",
        "notas_mario =[8.0, 2.5, 9.5, 7.5, 8.0]\n",
        "notas_peach =[8, 7.5, 1.5, 1.0, 10.0]\n",
        "notas_mahatma =[10, 10, 10, 2.0, 10.0]\n",
        "notas_sufia =[3.0, 10.0, 10.0, 10.0, 10.0]\n",
        "notas_goku =[0, 0, 0, 0, 10.0]\n",
        "notas_zoro =[7.0, 7.0, 7.0, 7.0, 7.0]\n",
        "notas_sola =[10, 10.0, 10.0, 10.0, 10.0]\n",
        "notas_peralta =[8, 8.5, 8.5, 8.0, 9.0]\n",
        "notas_rogerim =[0.2, 6.5, 9.5, 7.0, 0.0]\n",
        "\n",
        "\n"
      ]
    }
  ]
}